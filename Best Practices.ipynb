{
 "cells": [
  {
   "cell_type": "markdown",
   "metadata": {},
   "source": [
    "# Best Practices: Reprodutible Research"
   ]
  },
  {
   "cell_type": "markdown",
   "metadata": {},
   "source": [
    "## Porque fazer pesquisa Reprodutível?\n",
    "\n",
    "<p>A reprodutibilidade é um termo muito debatido na ciência atualmente, afinal, a ciência por definição busca resultados de experimentos reproduzíveis. As pesquisas claramente avançam com mais rapidez quando os cientistas verificam e têm a possibilidade de observar os resultados uns dos outros, além de perderem menos tempo buscando pistas falsas.\n",
    "<p>Em 2013, inicou-se o [Reproducibility Project: Cancer Biology of the Center for Open Science](https://osf.io/e81xl/wiki/home/), cujo objetivo é reproduzir 50 importantes estudos de câncer e analisar os resultados. Até o momento, os 5 primeiros trabalhos foram liberados, pelo menos uma vez em cada estudo analisado, um resultado alcançado não foi encontrado como o reportado. Em dois dos casos, as diferenças entre o estudo inicial e o replicado foram ainda mais impressionantes, dando motivo de preocupação para toda a comunidade científica.\n",
    "<p>Em 2015, foi realizado o [Reproducibility Project: Psychology](https://www.nature.com/news/first-results-from-psychology-s-largest-reproducibility-test-1.17433) pelo Open Science Colaboration um projeto de verificação de reprodutibilidade de 100 estudos da área de psicologia, entre os estudos analisados apenas 39 foram replicados. O que nos indica que diferentes áreas do conhecimento possuem dificuldade em reproduzir seus próprios trabalhos.\n",
    "<p> Pesquisas Reprodutíveis têm ganhado espaço e  muita importância na comunidade científica nos últimos anos. Os gráficos abaixo mostram o crescimento do termo Reproducible Research nos trabalhos publicados nos últimos 20 anos. \n",
    " \n",
    "![alternate text](https://github.com/suzanasvm/SmileFace/blob/master/figures/imagem_reprod.png?raw=true)\n",
    " \n",
    "\n"
   ]
  },
  {
   "cell_type": "markdown",
   "metadata": {},
   "source": [
    "\n",
    "## Em que momento devo tornar minha pesquisa Reprodutível?\n",
    "\n",
    "<p>Os pesquisadores geralmente começam a pensar em tornar seu trabalho reprodutível perto do final do processo de pesquisa, quando eles escrevem seus resultados ou quando precisam compartilhar a pesquisa com algum colega de laboratório. Até este ponto, podem haver várias versões do conjunto de dados e registros das análises armazenadas em diferentes repositórios. Tornando um trabalho difícil e demorado pesquisar e organizar todos os arquivos necessários para criar uma ordem precisa de como os resultados foram alcançados. \n",
    "<p>Esperar até o final do processo de pesquisa para começar a pensar sobre a reprodutibilidade geralmente resulta em uma documentação incompleta, sem uma descrição  tão precisa de como foram feitas cada uma das descobertas. Portanto, é importante concentrar-se na reprodutibilidade **desde o início do processo** e continuar a seguir boas práticas de reprodutibilidade durante as atualizaçoes do trabalho. \n",
    "<p>Pense no processo de reprodutibilidade desde a concepção da sua proposta de pesquisa e garanta  que o trabalho seja facilmente reproduzido por qualquer outro pesquisador do mundo.\n",
    "\n",
    "\n",
    " "
   ]
  },
  {
   "cell_type": "markdown",
   "metadata": {},
   "source": [
    "## Mas como tornar minha pesquisa Reprodutível?\n",
    "<p>*Lembre-se que uma pesquisa parcialmente reprodutível é melhor que uma pesquisa não reprodutível. * \n",
    "\n",
    "<p> Na prática nem todos os projetos são 100% reprodutíveis, mas permita que seu projeto seja o mais reprodutível que estiver ao seu alcance. A proposta de um trabalho reprodutível é oferecer a qualquer outro pesquisador, os dados originais do estudo, processados com  os mesmos scripts e obter resultados idênticos ou muito próximos do original. Mas aqui vão algumas dicas de como começar e algumas boas estratégias.\n",
    "\n",
    "Imagine sua pesquisa em 5 âmbitos:\n",
    "\n",
    "**- Workflow: ** Ofereça um overview do seu trabalho, ter uma visão de onde podemos chegar no final da jornada facilita ao observar cada parte do trabalho.\n",
    "**<br>- Dados: ** Sempre que possível devem ser disponibilizados, com informações como: origem, tamanho e possíveis normalizações utilizadas.\n",
    "**<br>- Código: ** Quando possível, disponibilize seus scripts, cuide para que eles sejam fácil de ser entendidos por humanos.\n",
    "**<br>- Documentação: ** Além do seu paper por escrito, ofereça informações sobre cada etapa do seu trabalho: como os dados se relacionam com os códigos? Como os gráficos do trabalho foram gerados? E como aqueles resultados foram alcançados?\n",
    "**<br>- Ambiente:** Disponibilize informações do ambiente utilizado. A versão das bibliotecas e softwares utilizadas em sua pesquisa mudam ao longo do tempo e podem alterar o resultado final de reprodutibilidade.\n",
    "\n",
    "<p> Alguns projetos são mais complexos do que outros e consequentemente podem tornar o processo de reprodutibilidade mais desafiador. Muitas ferramentas e técnicas estão disponíveis para ajudar a superar esses desafios. \n",
    "<p>Abaixo descrevemos detalhadamente, passo a passo, uma série de boas práticas em cada uma das 5 etapas indicadas, note que a ordem dos passos são apenas uma sugestão, ficando a critério do leitor executar cada etapa de acordo com as necessidades de seu projeto."
   ]
  },
  {
   "cell_type": "markdown",
   "metadata": {},
   "source": [
    "### Primeiro Passo: Workflow\n",
    "\n",
    "Imagine iniciar um passeio numa estrada, iniciamos a caminhada mas ainda não sabemos exatamente onde vamos chegar; também não sabemos que dificuldades teremos pelo caminho, se teremos que atravessar um rio, um pântano ou uma montanha...Parece um pouco angustiante, não é mesmo?\n",
    "\n",
    "<p>Essa é exatamente a mesma sensação ao tentar reproduzir uma pesquisa sem um Workflow. A ideia  do workflow é oferecer um \"mapa\" completo de toda sua pesquisa, indicando aos colegas todos os pontos mais importantes da jornada.\n",
    "![alternate text](http://www.ezflow.it/blog/wp-content/uploads/2016/06/Visual-Workflow-1.jpg)\n",
    "Existem várias ferramentas que podem lhe auxiliar na criação do Workflow:\n",
    "\n",
    "**[- Taverna:](https://taverna.incubator.apache.org/documentation/quick-start-guide/) ** Taverna é um poderoso aplicativo de gerenciamento de workflow científico que ajuda a resolver o problema da complexidade excessiva em grandes projetos.\n",
    "**<br>[- Loni Pipeline](http://pipeline.loni.usc.edu/learn/user-guide/):**  É um sistema distribuído gratuito para projetar, executar, monitorar e compartilhar fluxos de trabalho científicos principalmente nas áreas de bioinformática, neuroimagem e genômica.\n",
    "**<br>[- Pegasus: ](https://pegasus.isi.edu/documentation/)** Gerenciador de workflows, muito utilizado nas áreas de astronomia, bioinformática, física e oceanografia.\n",
    "\n",
    "**IMPORTANTE: ** As ferramentas listadas acimas são indicadas em projetos específicos das áreas citadas ou projetos muito complexos, com muitos níveis de abstração. Caso seu trabalho não tenha tantas etapas utilize alguma ferramenta de edição de imagens ou de criação de fluxograma como:\n",
    "\n",
    "**[- Draw IO ](https://www.draw.io/)**\n",
    "**<br>[- Pixlr Editor ](https://pixlr.com/editor/)**\n",
    "\n",
    "**Dicas**\n",
    "1. É importante que todo projeto ofereça um Workflow, mas observe o tamanho do seu projeto e veja se realmente é necessário lidar com uma ferramenta de gerenciamento de workflow, para alguns casos apenas um diagrama ou fluxograma já oferece todas as informações necessárias.\n",
    "2. Indique no worflow as saídas e entradas de dados: Isso facilita que outros pesquisadores identifiquem o que acontece em cada etapa.\n",
    "3. Sempre que possível referencie as funções utilizadas em cada etapa do workflow, relacionando as funções dos códigos as etapas do projeto.\n",
    "4. Mantenha seu workflow sempre atualizado. Não adianta ter uma referência que não corresponda a realidade do projeto no momento.\n",
    "5. O Workflow não deve ser um fluxograma do código implementado. Os scripts são apenas uma parte do seu projeto, pense nas etapas do projeto de maneira macro."
   ]
  },
  {
   "cell_type": "markdown",
   "metadata": {},
   "source": [
    "### Segundo Passo: Dados\n",
    "\n",
    "Nem sempre os dados utilizados podem ser compartilhados publicamente. Dados médicos, genéticos entre outros tem este tipo de restrição.\n",
    "\n",
    "[**- Github:**](http://rogerdudler.github.io/git-guide/index.pt_BR.html)\n",
    "<br>[**- Bitbucket: **](https://confluence.atlassian.com/bitbucketserver/getting-started-with-git-and-bitbucket-server-776640936.html)\n",
    "\n",
    "![alternate text](https://encrypted-tbn0.gstatic.com/images?q=tbn:ANd9GcTpzg7KkXKqP8HdBbKYPgOXrlmwgjy2G9Pj5xWK5vbVIZFgSmF1CQ)\n",
    "\n",
    "**Dicas**\n",
    "\n",
    "1. Se possível, disponibilize os dados. Estes podem ser de dois tipos: Dados Brutos ou Dados Normalizados, deixe explícito qual tipo de dado está sendo disponibilizado.\n",
    "2. Caso utilize dados normalizados inclua os dados brutos e scripts que chegaram aquele resultado, juntamente com as sementes do gerador de números randômicos, caso seja utilizada.Os dados e scripts podem ser disponibilizados num ambiente de controle de versão.\n",
    "3. Deixe o computador fazer o trabalho díficil: Caso precise realizar alguma tarefa repetitiva como numa base de dados de imagem cortá-las no mesmo tamanho específico, automatize esta tarefa. Isso garante dados mais consistentes e evita dados com erros ou fora do padrão especificado.\n",
    "4. Informe as decisões do projeto: Alguns dados foram removidos da amostra utilizada?Além de disponibilizar os scripts que alteram a amostra, indique o motivo de utilizar aquele tipo de normalização. Através dessa informação outros pesquisadores podem ter visões diferentes do seu trabalho e até gerarem novas propostas.\n",
    "5. Quando possível, ofereça a informação da procedência dos dados. Afinal de contas, não queremos fazer pesquisa com dados não confiáveis. Informar a origem dos seus dados dá mais transparência e confiança em seu projeto."
   ]
  },
  {
   "cell_type": "markdown",
   "metadata": {},
   "source": [
    "### Terceiro Passo: Código\n",
    "\n",
    "Ao longo do desenvolvimento do projeto, os scripts vão evoluindo, recebendo alterações e correções de erros, utilizar ferramentas de controle de versão dá mais tranquilidade e facilita a organização do trabalho em equipe. Além disso em códigos de computador é muito comum fazer uma alteração trivial e todo o código se comportar de maneira inesperada, por isso é relevante ter a possibilidade de voltar a versões anteriores. \n",
    "\n",
    "![alternate text](https://encrypted-tbn0.gstatic.com/images?q=tbn:ANd9GcSD1IVIFchUX7OWgqLHrJ5oQbT5otfdi5cS8yGmZzKBYQRNWvXv)\n",
    "<br>Você pode armazenar seu código utilizando alguma das ferramentas abaixo:\n",
    "\n",
    "Os códigos podem ser armazenados em vários repositórios\n",
    "\n",
    "[**- Github:**](http://rogerdudler.github.io/git-guide/index.pt_BR.html) Ferramenta de controle de versão mais comumente utilizada. Permite compartilhar projetos com visibilidade pública de maneira gratuita e oferece uma versão paga com controle privado de acesso ao código.\n",
    "<br>[**- Bitbucket: **](https://confluence.atlassian.com/bitbucketserver/getting-started-with-git-and-bitbucket-server-776640936.html)\n",
    "\n",
    "\n",
    "**Dicas**\n",
    "\n",
    "1. Escreva seu código para pessoas, não para computadores: Um programa de computador por mais complexo que seja, não deve ser difícil de ser entendido, utilize nomes realmente significativos em suas variavéis,classes e funções, evite utilizar nomes como aux, x1 ou valor, pois não transmitem significado ao leitor do código.\n",
    "\n",
    "2. Faça mudanças incrementais: A cada nova versão documente as alterações e utilize uma ferramenta de controle de versão para garantir a rastreabilidade do seu código. Faça pequenas alterações no código e registre cada uma com máximo de informações possíveis na descrição.\n",
    "\n",
    "3. Evite Repetições: Sempre que possível divida seu código em funções específicas que façam apenas uma tarefa, desta forma seu código fica modularizado e eficiente.Caso precise realizar aquela função novamente basta chamar a função já criada, isto evita repetições desnecessárias e melhora a qualidade do seu código.\n",
    "\n",
    "4. Tenho um arquivo Readme associado a seu projeto: Mesmo que você tenha organizado as pastas, os dados e todas as informações da melhor maneira possível. Ofereça no arquivo Readme uma documentação com uma visão geral do projeto além de dar informações sobre cada pasta. Não se esqueça de manter seu arquivo Readme atualizado a medida que o projeto vai sendo modificado.\n",
    "\n",
    "5. Cuide da organização dos arquivos e diretórios. Como sugestão as pastas podem ser organizados da seguinte maneira:\n",
    " - data: Armazena os dados utilizados no projeto.\n",
    " - dev: Armazena os scripts e funções do projeto.\n",
    " - figures: Armazena as imagens utilizadas para ilustrar o projeto.\n",
    " - Readme: Exibe uma visão geral do projeto.\n",
    "\n",
    "6. A cada commit faça um comentário da alteração realizada. Dessa forma todos que consultarem seu repositório terão uma pista da alteração realizada naquele ponto."
   ]
  },
  {
   "cell_type": "markdown",
   "metadata": {},
   "source": [
    "### Quarto Passo: Documentação\n",
    "\n",
    "Nesta área uma série de softwares tem sido utilizados como: X, y, Z, entre tantos disponíveis o Jupyter Notebook se destaca por ser isso e isso.\n",
    "\n",
    "#### [Jupyter Notebook](https://www.datacamp.com/community/tutorials/tutorial-jupyter-notebook#gs.zMbzaQE)\n",
    "<p>Utilizando o Jupyter Notebook é possível descrever a questão da pesquisa, a abordagem do projeto, narrar as etapas importantes na análise. Sempre mesclando explicações e o código de programação. Esses documentos podem ser construídos de forma dinâmica, escrevendo porções do código da narrativa e do software, visualizando os resultados no relatório e continuando a análise com narração e código adicionais ou resumindo os resultados. \n",
    "<p>Um documento completo de programação alfabetizada contém todos os componentes críticos de uma análise reprodutível: a descrição da análise, o código de programação usado para realizá-lo, os resultados e uma discussão. O documento e seu relatório, geralmente um arquivo PDF ou HTML, podem ser facilmente compartilhados com outros pesquisadores\n",
    "\n",
    "**Dicas**\n",
    "\n",
    "1. Crie um novo notebook para cada versão importante de seu projeto. Assim é possível entender a evolução do projeto como um todo.\n",
    "2. Tenha atenção ao criar nomes para seus notebooks. Utilize algum tipo de padrão como a data + mes + ano + nome do notebook. Evite utilizar v01,v02,v03, pois estes nomes não transmitem nenhuma informação sobre o conteúdo ou alteração do notebook.\n",
    "3. Faça da documentação do projeto uma rotina: É muito fácil escrever texto e código com o Jupyter Notebook, tenha disciplina e documente todas as alterações de seu projeto como um hábito.\n",
    "4. Prefira utilizar gráficos vivos ou seja gerados através de código no Jupyter Notebook do que imagens de gráficos estáticas.\n",
    "\n",
    "- Criar um enviroment para ter um ambiente limpo a disposição\n"
   ]
  },
  {
   "attachments": {},
   "cell_type": "markdown",
   "metadata": {},
   "source": [
    "### Quinto Passo: Ambiente\n",
    "\n",
    "Um dos grandes desafios em pesquisa reprodutível é de oferecer todas as dependências necessárias de maneira simples e prática.O processo de identificação, instalação e configuração dessas dependências consome uma quantidade considerável de tempo dos cientistas. Diferentes sistemas operacionais e suas versões podem exigir diferentes etapas de instalação e configuração. Além disso, as versões anteriores das dependências de software, que podem ser instaladas atualmente em um determinado computador, podem ser incompatíveis ou produzir saídas diferentes das versões mais novas.\n",
    "<p>Existem algumas propostas no mercado que visam solucionar este problema:\n",
    "\n",
    " **- Máquinas Virtuais:** Podem encapsular todo um sistema operacional e todos os softwares, scripts, códigos e dados necessários para executar uma análise computacional. Usando o software de virtualização, como [VirtualBox](https://www.virtualbox.org/manual/ch01.html) ou [VMWare](https://www.vmware.com/support/ws5/doc/ws_newguest_setup_simple_steps.html), uma máquina virtual pode ser executada praticamente em qualquer desktop, laptop ou servidor, independentemente do sistema operacional principal do computador. Entretanto as máquinas virtuais na maioria dos casos são arquivos muito grandes e difíceis de serem compartihados\n",
    " \n",
    "![alternate text](https://blog.logentries.com/mstatic/content/uploads/2015/07/containers-vs-Vms.png)\n",
    "\n",
    "**Dicas**\n",
    "1. Você pode se apoiar em containers prontos para criar seu próprio container. Acesse \n"
   ]
  },
  {
   "cell_type": "markdown",
   "metadata": {},
   "source": [
    "### Referências"
   ]
  },
  {
   "cell_type": "markdown",
   "metadata": {},
   "source": [
    "Open Science Collaboration. (2015). Estimating the reproducibility of psychological science. Science, 349(6251), aac4716-1-aac4716-8. doi: 10.1126/science.aac4716 "
   ]
  }
 ],
 "metadata": {
  "kernelspec": {
   "display_name": "Python 2",
   "language": "python",
   "name": "python2"
  },
  "language_info": {
   "codemirror_mode": {
    "name": "ipython",
    "version": 2
   },
   "file_extension": ".py",
   "mimetype": "text/x-python",
   "name": "python",
   "nbconvert_exporter": "python",
   "pygments_lexer": "ipython2",
   "version": "2.7.13"
  }
 },
 "nbformat": 4,
 "nbformat_minor": 2
}
