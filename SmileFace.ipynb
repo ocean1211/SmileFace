{
 "cells": [
  {
   "cell_type": "code",
   "execution_count": 41,
   "metadata": {},
   "outputs": [
    {
     "name": "stdout",
     "output_type": "stream",
     "text": [
      "\n",
      "Quantidade Total de Dados: \n",
      "(400,)\n"
     ]
    }
   ],
   "source": [
    "from sklearn.datasets import fetch_olivetti_faces\n",
    "from pylab import *\n",
    "%matplotlib inline\n",
    "\n",
    "# fetch the faces data\n",
    "faces = fetch_olivetti_faces()\n",
    "\n",
    "       \n",
    "#Quantidade\n",
    "print \"\\nQuantidade Total de Dados: \"\n",
    "print faces.target.shape\n"
   ]
  },
  {
   "cell_type": "code",
   "execution_count": null,
   "metadata": {
    "collapsed": true
   },
   "outputs": [],
   "source": []
  },
  {
   "cell_type": "code",
   "execution_count": 43,
   "metadata": {},
   "outputs": [
    {
     "data": {
      "image/png": "[encoded data removed]",
      "text/plain": [
       "<matplotlib.figure.Figure at 0x7f073f8445d0>"
      ]
     },
     "metadata": {},
     "output_type": "display_data"
    }
   ],
   "source": [
    "total = 400\n",
    "for i in range(total):\n",
    "    face = faces.images[i]\n",
    "    subplot(1, total, i + 1)\n",
    "    #imshow(face.reshape((64, 64)), cmap='gray')\n",
    "    imshow(face, cmap='gray')\n",
    "    #axis('off')\n"
   ]
  }
 ],
 "metadata": {
  "kernelspec": {
   "display_name": "Python 2",
   "language": "python",
   "name": "python2"
  },
  "language_info": {
   "codemirror_mode": {
    "name": "ipython",
    "version": 2
   },
   "file_extension": ".py",
   "mimetype": "text/x-python",
   "name": "python",
   "nbconvert_exporter": "python",
   "pygments_lexer": "ipython2",
   "version": "2.7.13"
  }
 },
 "nbformat": 4,
 "nbformat_minor": 2
}
