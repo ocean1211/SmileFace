{
 "cells": [
  {
   "cell_type": "markdown",
   "metadata": {},
   "source": [
    "## Classificador de Sorrisos utilizando KNN (K- Nearest Neighbors)"
   ]
  },
  {
   "cell_type": "markdown",
   "metadata": {},
   "source": [
    "### Apresentando os dados utilizados"
   ]
  },
  {
   "cell_type": "code",
   "execution_count": 11,
   "metadata": {},
   "outputs": [
    {
     "name": "stdout",
     "output_type": "stream",
     "text": [
      "\n",
      "Quantidade Total de Dados: \n",
      "(400,)\n"
     ]
    }
   ],
   "source": [
    "from sklearn.datasets import fetch_olivetti_faces\n",
    "from pylab import *\n",
    "from plotly import tools\n",
    "\n",
    "faces = fetch_olivetti_faces()\n",
    "       \n",
    "#Quantidade\n",
    "print \"\\nQuantidade Total de Dados: \"\n",
    "print faces.target.shape\n",
    "\n",
    "\n"
   ]
  },
  {
   "cell_type": "markdown",
   "metadata": {},
   "source": [
    "## Classificador KNN ( K - Nearest Neighbors)\n",
    "\n",
    "É amplamente utilizado em problemas de classificação de dados. A proposta é armazenar todos os casos disponíveis e classificar novos casos por maioria de votos de seus vizinhos k.\n",
    "O caso que está sendo atribuído à classe é mais comum entre os seus K vizinhos mais próximos medidos por uma função de distância.\n",
    "Neste caso estamos utilizando a distância euclidiana."
   ]
  },
  {
   "cell_type": "code",
   "execution_count": 12,
   "metadata": {},
   "outputs": [
    {
     "name": "stdout",
     "output_type": "stream",
     "text": [
      "[14, 5, 26, 22, 11, 7, 2, 10, 39, 10, 32, 37, 23, 12, 30, 34, 18, 25, 13, 11, 7, 26, 8, 22, 24, 2, 38, 28, 37, 13, 35, 3, 37, 6, 32, 9, 27, 15, 19, 36, 20, 24, 16, 38, 21, 35, 17, 20, 32, 27, 30, 23, 6, 32, 24, 10, 27, 0, 39, 39, 13, 24, 14, 20, 26, 16, 39, 16, 29, 11, 23, 28, 17, 19, 5, 29, 33, 34, 2, 37, 8, 37, 27, 25, 4, 6, 34, 0, 13, 38, 20, 23, 21, 15, 17, 35, 22, 2, 35, 4, 18, 30, 35, 2, 30, 3, 15, 36, 18, 8, 10, 16, 2, 11, 20, 37, 30, 16, 34, 20, 0, 13, 33, 21, 19, 36, 2, 19, 2, 25, 20, 11, 33, 8, 2, 12, 17, 36, 4, 37, 31, 18, 35, 14, 32, 38, 29, 31, 22, 16, 26, 21, 29, 26, 23, 39, 20, 21, 9, 3, 11, 9, 33, 11, 3, 12, 34, 38, 34, 33, 17, 31, 29, 10, 18, 8, 5, 39, 3, 24, 18, 29, 23, 21, 1, 20, 6, 3, 25, 12, 7, 5, 28, 1, 13, 8, 27, 17, 20, 28]\n",
      "0.885\n"
     ]
    }
   ],
   "source": [
    "from scipy.spatial import distance\n",
    "from sklearn import tree\n",
    "from sklearn import datasets\n",
    "from sklearn.datasets import fetch_olivetti_faces\n",
    "from sklearn.cross_validation import train_test_split\n",
    "\n",
    "#Funcao da distancia Euclidiana\n",
    "def euc(a,b):\n",
    "\treturn distance.euclidean(a,b)\n",
    "\n",
    "class ScrappyKNN():\n",
    "\n",
    "\t#Faz o treinamento\n",
    "\t#Entradas: elementos e labels\n",
    "\tdef fit(self,X_train,y_train):\n",
    "\t\tself.X_train = X_train\n",
    "\t\tself.y_train = y_train\n",
    "\n",
    "\t#Faz a previsao\n",
    "\t#Entrada: elementos dos dados de teste\n",
    "\t#Saida: Previsao para os labels\n",
    "\tdef predict(self,X_test):\n",
    "\t\tpredictions = []\n",
    "\n",
    "\t\tfor row in X_test:\n",
    "\t\t\t#Encontra o ponto de treinamento mais proximo do ponto de teste\n",
    "\t\t\tlabel = self.closest(row)\n",
    "\t\t\tpredictions.append(label)\n",
    "\t\treturn predictions\n",
    "\n",
    "\tdef closest(self,row):\n",
    "\n",
    "\t\t#Calcula a distancia do teste ao primeiro ponto de treinamento\n",
    "\t\tbest_dist = euc(row,self.X_train[0])\n",
    "\t\t#Guarda o index da melhor distancia\n",
    "\t\tbest_index = 0\n",
    "\t\tfor i in range(1, len(self.X_train)):\n",
    "\t\t\tdist = euc(row,self.X_train[i])\n",
    "\t\t\t#Quando encontrar um ponto de distancia menor atualizar os valores\n",
    "\t\t\tif(dist<best_dist):\n",
    "\t\t\t\t#Guarda a menor distancia\n",
    "\t\t\t\tbest_dist = dist\n",
    "\t\t\t\t#Guarda o indice da menor distancia\n",
    "\t\t\t\tbest_index = i\n",
    "\n",
    "\t\treturn self.y_train[best_index]\n",
    "\n",
    "\n",
    "\n",
    "#utilizando\n",
    "face = fetch_olivetti_faces()\n",
    "X = face.data\n",
    "y = face.target\n",
    "\n",
    "X_train,X_test,y_train,y_test = train_test_split(X,y,test_size=.5)\n",
    "\n",
    "\n",
    "my_classifier = ScrappyKNN()\n",
    "\n",
    "my_classifier.fit(X_train,y_train)\n",
    "\n",
    "predictions = my_classifier.predict(X_test)\n",
    "\n",
    "#print predictions\n",
    "\n",
    "from sklearn.metrics import accuracy_score\n",
    "\n",
    "print accuracy_score(y_test,predictions)\n",
    "\n",
    "\n",
    "#Resultado Faces 0.80 "
   ]
  }
 ],
 "metadata": {
  "kernelspec": {
   "display_name": "Python 2",
   "language": "python",
   "name": "python2"
  },
  "language_info": {
   "codemirror_mode": {
    "name": "ipython",
    "version": 2
   },
   "file_extension": ".py",
   "mimetype": "text/x-python",
   "name": "python",
   "nbconvert_exporter": "python",
   "pygments_lexer": "ipython2",
   "version": "2.7.13"
  }
 },
 "nbformat": 4,
 "nbformat_minor": 2
}
