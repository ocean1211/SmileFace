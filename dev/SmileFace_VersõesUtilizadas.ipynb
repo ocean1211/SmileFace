{
 "cells": [
  {
   "cell_type": "markdown",
   "metadata": {},
   "source": [
    "## README\n",
    "\n",
    "Version used:\n",
    "\n",
    "\n",
    "#### WINDOWS 10 - 64 BITS\n",
    "\n",
    "**Conda**: Foi utilizada a versão presente neste link https://conda.io/miniconda.html - Python 2.7\n",
    "<br>**Opencv**: Através deste link https://pypi.python.org/pypi/opencv-python/3.1.0.3 baixar a versão opencv_python-3.1.0.3-cp27-cp27mu-manylinux1_x86_64.whl (md5). Abrir o prompt de comando do windows, utilizar o comando cd até chegar a pasta em que arquivo .whl se encontra, rodar o comando pip install opencv_python-3.1.0.3-cp27-cp27mu-manylinux1_x86_64.whl.\n",
    "\n",
    "**V-REP**\n",
    "Software de Simulação utilizado. Pode ser baixado no link http://www.coppeliarobotics.com/downloads.html\n",
    "Os arquivos\n",
    "\n",
    "\n",
    "\n"
   ]
  }
 ],
 "metadata": {
  "kernelspec": {
   "display_name": "Python 2",
   "language": "python",
   "name": "python2"
  },
  "language_info": {
   "codemirror_mode": {
    "name": "ipython",
    "version": 2
   },
   "file_extension": ".py",
   "mimetype": "text/x-python",
   "name": "python",
   "nbconvert_exporter": "python",
   "pygments_lexer": "ipython2",
   "version": "2.7.13"
  }
 },
 "nbformat": 4,
 "nbformat_minor": 2
}
