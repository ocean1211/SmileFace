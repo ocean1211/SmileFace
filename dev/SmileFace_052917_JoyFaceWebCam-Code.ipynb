{
 "cells": [
  {
   "cell_type": "markdown",
   "metadata": {
    "collapsed": true
   },
   "source": [
    "### Code: JoyFace integrated with V-Rep simulation"
   ]
  },
  {
   "cell_type": "code",
   "execution_count": 17,
   "metadata": {
    "collapsed": true
   },
   "outputs": [],
   "source": [
    "#%matplotlib inline\n",
    "import time\n",
    "import cv2\n",
    "import matplotlib.pyplot as plt\n",
    "from IPython import display"
   ]
  },
  {
   "cell_type": "code",
   "execution_count": 18,
   "metadata": {
    "collapsed": true
   },
   "outputs": [],
   "source": [
    "##All the functions\n",
    "\n",
    "def set_classifier(cascPath):\n",
    "    cascPath = cascPath\n",
    "    faceCascade = cv2.CascadeClassifier(cascPath)\n",
    "    return faceCascade\n",
    " \n",
    "def set_nose_point(x,y,w,h,frame):\n",
    "    #Setting the nose point\n",
    "    face_x = (x+(w/2))\n",
    "    face_y = (y+(h/2))\n",
    "    #Show the green nose point\n",
    "    cv2.circle(frame,(face_x,face_y), 8, (0,255,0),-1)\n",
    "           \n",
    "def set_direction(x,y,ax,ay,stop):\n",
    "    if(stop == True):\n",
    "        return \"STOP\"\n",
    "    else:\n",
    "        if y < ay-precision_v: return \"UP\"\n",
    "        #elif y > ay+precision_v: return \"DOWN\"\n",
    "        elif x < ax-precision_h: return \"LEFT\"\n",
    "        elif x > ax+precision_h: return \"RIGHT\""
   ]
  },
  {
   "cell_type": "code",
   "execution_count": null,
   "metadata": {
    "collapsed": true
   },
   "outputs": [],
   "source": [
    "#Configuration Variables: don't should be alterated\n",
    "calc_average = True\n",
    "count_face = 0 \n",
    "average_x = 0 \n",
    "average_y = 0 \n",
    "sp=0\n",
    "\n",
    "#This variables below can be alterated\n",
    "\n",
    "#Change the size of the threshold area\n",
    "precision_h = 40\n",
    "precision_v = 30\n",
    "\n",
    "#For security iniciate the wheelchair with the command STOP\n",
    "send_command = \"STOP\"\n",
    "\n",
    "#Set the velocity of the wheelchair\n",
    "velocity = 0.5"
   ]
  },
  {
   "cell_type": "code",
   "execution_count": null,
   "metadata": {},
   "outputs": [
    {
     "name": "stdout",
     "output_type": "stream",
     "text": [
      "Program started\n"
     ]
    }
   ],
   "source": [
    "try:\n",
    "    import vrep\n",
    "except:\n",
    "    print ('\"vrep.py\" could not be imported.\"') \n",
    "\n",
    "print ('Program started')\n",
    "#just in case, close all opened connections\n",
    "vrep.simxFinish(-1) \n",
    "#Connect to V-REP\n",
    "clientID=vrep.simxStart('127.0.0.1',19997,True,True,5000,5) \n",
    "\n",
    "if clientID!=-1:\n",
    "    print ('Connected to remote API server')\n",
    "    vrep.simxStartSimulation(clientID,vrep.simx_opmode_oneshot)\n",
    "    res,leftHandle=vrep.simxGetObjectHandle(clientID,'leftM',vrep.simx_opmode_blocking)\n",
    "    res,rightHandle=vrep.simxGetObjectHandle(clientID,'rightM',vrep.simx_opmode_blocking)\n"
   ]
  },
  {
   "cell_type": "code",
   "execution_count": null,
   "metadata": {
    "scrolled": true
   },
   "outputs": [],
   "source": [
    "#Open the first webcam\n",
    "vc = cv2.VideoCapture(0)\n",
    "# try to get the first frame\n",
    "if vc.isOpened(): \n",
    "    is_capturing, frame = vc.read()  \n",
    "    webcam_preview = plt.imshow(frame)    \n",
    "else:\n",
    "    is_capturing = False\n",
    "\n",
    "while is_capturing:\n",
    "    try:    \n",
    "        #Iniciate to read the webcam\n",
    "        is_capturing, frame = vc.read()\n",
    "        #Flip the image\n",
    "        frame = cv2.flip(frame,180) \n",
    "        #Filter grayscale\n",
    "        gray = cv2.cvtColor(frame, cv2.COLOR_BGR2GRAY)\n",
    "        #Show for the user the image with colors\n",
    "        frame = cv2.cvtColor(frame, cv2.COLOR_BGR2RGB)  \n",
    "        #Set the OpenCV Face Classifier\n",
    "        faceCascade = set_classifier('haarcascade_frontalface_default.xml')\n",
    "        #Set the OpenCV Smile Classifier\n",
    "        smileCascade = set_classifier('haarcascade_smile.xml')\n",
    "\n",
    "        #Set the parameters for detect the face\n",
    "        faces = faceCascade.detectMultiScale(\n",
    "            gray,\n",
    "            scaleFactor=1.1,\n",
    "            minNeighbors=8,\n",
    "            minSize=(120, 120)\n",
    "        )\n",
    "        #Found the face\n",
    "        for (x, y, w, h) in faces:\n",
    "            #Draw the green rectangle of the face\n",
    "            cv2.rectangle(frame, (x, y), (x+w, y+h), (0, 255, 0), 2)\n",
    "            \n",
    "            #Calcule the centroid of the face and set green point\n",
    "            set_nose_point(x,y,w,h,frame)    \n",
    "            \n",
    "            #Define Region of Intereting of Smile\n",
    "            roi_smile = frame[y:y+h, x:x+w]\n",
    "            \n",
    "            #Set the parameters for detect the smile\n",
    "            smile = smileCascade.detectMultiScale(\n",
    "            roi_smile,\n",
    "            scaleFactor=2.7,\n",
    "            minNeighbors=20,\n",
    "            minSize=(10, 10)  \n",
    "            )\n",
    "            \n",
    "            #Found the smile\n",
    "            for(sp,sq,sr,ss) in smile:\n",
    "                #Draw the red rectangle of the smile\n",
    "                cv2.rectangle(roi_smile,(sp,sq),(sp+sr,sq+ss), (255,0,0),thickness=2)\n",
    "                \n",
    "            #Any time the smile can stop the wheelchair\n",
    "            if sp in smile:\n",
    "                stop = True\n",
    "            else:\n",
    "                stop = False\n",
    "\n",
    "            #Calcule the threshold white area\n",
    "            if calc_average:\n",
    "                count_face += 1\n",
    "                average_x += (x+(w/2))\n",
    "                average_y += (y+(h/2))\n",
    "                progress = (count_face/60.0) * 100\n",
    "                \n",
    "                if count_face==3:\n",
    "                    average_x /= count_face\n",
    "                    average_y /= count_face\n",
    "                    calc_average = False\n",
    "            else:   \n",
    "                face_x = (x+(w/2)) \n",
    "                face_y = (y+(h/2))\n",
    "                flag_save = True\n",
    "                \n",
    "                #Draw the threshold white area\n",
    "                cv2.rectangle(frame, (average_x-precision_h,average_y-precision_v),\n",
    "                                         (average_x+precision_h,average_y+precision_v), (255,255,255),thickness=2)   \n",
    "                \n",
    "                #Verify the direction of the face and associate with a command: UP,LEFT,RIGHT,STOP\n",
    "                send_command = set_direction(face_x,face_y,average_x,average_y,stop)\n",
    "                \n",
    "                #Send the commands fot the wheelchair\n",
    "                if(send_command == \"UP\"):\n",
    "                    vrep.simxSetJointTargetVelocity(clientID,leftHandle,velocity,vrep.simx_opmode_oneshot)\n",
    "                    vrep.simxSetJointTargetVelocity(clientID,rightHandle,velocity,vrep.simx_opmode_oneshot)\n",
    "                if(send_command == \"RIGHT\"):\n",
    "                    vrep.simxSetJointTargetVelocity(clientID,leftHandle,velocity,vrep.simx_opmode_oneshot)\n",
    "                    vrep.simxSetJointTargetVelocity(clientID,rightHandle,-velocity,vrep.simx_opmode_oneshot)\n",
    "                    time.sleep(0.5)\n",
    "                    vrep.simxSetJointTargetVelocity(clientID,leftHandle,velocity,vrep.simx_opmode_oneshot)\n",
    "                    vrep.simxSetJointTargetVelocity(clientID,rightHandle,velocity,vrep.simx_opmode_oneshot)\n",
    "                if(send_command == \"LEFT\"):\n",
    "                    vrep.simxSetJointTargetVelocity(clientID,rightHandle,velocity,vrep.simx_opmode_oneshot)\n",
    "                    vrep.simxSetJointTargetVelocity(clientID,leftHandle,-velocity,vrep.simx_opmode_oneshot)\n",
    "                    time.sleep(0.5)\n",
    "                    vrep.simxSetJointTargetVelocity(clientID,leftHandle,velocity,vrep.simx_opmode_oneshot)\n",
    "                    vrep.simxSetJointTargetVelocity(clientID,rightHandle,velocity,vrep.simx_opmode_oneshot)\n",
    "                if(send_command == \"STOP\"):\n",
    "                    vrep.simxSetJointTargetVelocity(clientID,rightHandle,0,vrep.simx_opmode_oneshot)\n",
    "                    vrep.simxSetJointTargetVelocity(clientID,leftHandle,0,vrep.simx_opmode_oneshot)\n",
    "        \n",
    "        #See the webcam feedback                                    \n",
    "        webcam_preview.set_data(frame)\n",
    "        plt.draw()\n",
    "\n",
    "        display.clear_output(wait=True)\n",
    "        display.display(plt.gcf())\n",
    "\n",
    "    except KeyboardInterrupt:\n",
    "        vc.release()"
   ]
  }
 ],
 "metadata": {
  "kernelspec": {
   "display_name": "Python 2",
   "language": "python",
   "name": "python2"
  },
  "language_info": {
   "codemirror_mode": {
    "name": "ipython",
    "version": 2
   },
   "file_extension": ".py",
   "mimetype": "text/x-python",
   "name": "python",
   "nbconvert_exporter": "python",
   "pygments_lexer": "ipython2",
   "version": "2.7.13"
  }
 },
 "nbformat": 4,
 "nbformat_minor": 2
}
