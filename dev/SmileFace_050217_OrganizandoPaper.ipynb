{
 "cells": [
  {
   "cell_type": "markdown",
   "metadata": {},
   "source": [
    "**Classificador de sorrisos utilizando Machine Learning**"
   ]
  },
  {
   "cell_type": "markdown",
   "metadata": {},
   "source": [
    "**Objetivo**\n",
    "\n",
    "O objetivo deste trabalho é desenvolver um classificador de imagens que seja capaz de identificar sorrisos e não sorrisos a partir de um banco de imagens 2D."
   ]
  },
  {
   "cell_type": "markdown",
   "metadata": {},
   "source": [
    "**Workflow**\n",
    "![alternate text](https://github.com/suzanasvm/SmileFace/blob/master/figures/SmileFace_workflow.png?raw=true)\n"
   ]
  },
  {
   "cell_type": "markdown",
   "metadata": {},
   "source": [
    "**Descrição Resumida dos Dados**\n",
    "\n",
    "Neste trabalho, estamos utilizando o banco de imagens Fetch Olivetti Faces.\n",
    "Composto por 10 imagens de 40 indíviduos distintos, totalizando 400 imagens em formato PGM."
   ]
  },
  {
   "cell_type": "markdown",
   "metadata": {},
   "source": [
    "**Descrição dos Métodos**\n",
    "\n",
    "<br>Pré-Processamento\n",
    "<br>Extração de Features\n",
    "<br>Algoritmo de Treinamento\n",
    "<br>Exibe Resultados\n"
   ]
  },
  {
   "cell_type": "markdown",
   "metadata": {},
   "source": [
    "**Bibliotecas**\n",
    "\n",
    "Serão utilizadas as bibliotecas:\n",
    "<br>sklearn 0.18.1\n",
    "<br>plotly  2.0.6\n",
    "<br>tensorFlow 1.1.0"
   ]
  },
  {
   "cell_type": "markdown",
   "metadata": {},
   "source": [
    "**Ferramentas**"
   ]
  },
  {
   "cell_type": "markdown",
   "metadata": {},
   "source": [
    "**Referências**"
   ]
  }
 ],
 "metadata": {
  "kernelspec": {
   "display_name": "Python 2",
   "language": "python",
   "name": "python2"
  },
  "language_info": {
   "codemirror_mode": {
    "name": "ipython",
    "version": 2
   },
   "file_extension": ".py",
   "mimetype": "text/x-python",
   "name": "python",
   "nbconvert_exporter": "python",
   "pygments_lexer": "ipython2",
   "version": "2.7.13"
  }
 },
 "nbformat": 4,
 "nbformat_minor": 2
}
