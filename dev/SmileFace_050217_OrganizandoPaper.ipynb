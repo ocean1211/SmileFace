{
 "cells": [
  {
   "cell_type": "markdown",
   "metadata": {},
   "source": [
    "# SmileFace - Classificador de sorrisos utilizando Machine Learning"
   ]
  },
  {
   "cell_type": "markdown",
   "metadata": {},
   "source": [
    "### Objetivo\n",
    "\n",
    "O objetivo deste trabalho é desenvolver um classificador de imagens que seja capaz de identificar sorrisos e não sorrisos a partir de um banco de imagens 2D."
   ]
  },
  {
   "cell_type": "markdown",
   "metadata": {},
   "source": [
    "### Workflow\n",
    "![alternate text](https://github.com/suzanasvm/SmileFace/blob/master/figures/SmileFace_workflow.png?raw=true)\n"
   ]
  },
  {
   "cell_type": "markdown",
   "metadata": {},
   "source": [
    "### Descrição Resumida dos Dados\n",
    "\n",
    "Neste trabalho, estamos utilizando o banco de imagens Fetch Olivetti Faces.\n",
    "<br>Composto por 10 imagens de 40 indíviduos distintos, totalizando 400 imagens em formato PGM."
   ]
  },
  {
   "cell_type": "markdown",
   "metadata": {},
   "source": [
    "### Descrição dos Métodos\n",
    "\n",
    "**Pré-Processamento:**\n",
    "Nesta etapa realizaremos verificações da integridade dos dados além da normalização e preparação da base de dados para a próxima etapa.\n",
    "\n",
    "<br>**Extração de Features:?**\n",
    "\n",
    "<br>**Algoritmo de Treinamento**\n",
    "Nesta estapa desenvolveremos um algoritmo de aprendizado de máquina supervisionado. Gerando um classificador capaz de identificar sorrisos e não sorrisos.\n",
    "\n",
    "<br>**Exibe Resultados**\n",
    "Serão gerados gráficos indicando os resultados do trabalho.\n"
   ]
  },
  {
   "cell_type": "markdown",
   "metadata": {},
   "source": [
    "### Bibliotecas\n",
    "\n",
    "Serão utilizadas as bibliotecas:\n",
    "<br>sklearn 0.18.1\n",
    "<br>plotly  2.0.6\n",
    "<br>tensorFlow 1.1.0"
   ]
  },
  {
   "cell_type": "markdown",
   "metadata": {},
   "source": [
    "### Ferramentas\n",
    "\n",
    "Docker\n",
    "<br>Draw.io\n",
    "<br>JupyterNotebook"
   ]
  },
  {
   "cell_type": "markdown",
   "metadata": {},
   "source": [
    "### Referências\n",
    "\n",
    "Batista, Gustavo Enrique de Almeida Prado. **Pré-processamento de dados em aprendizado de máquina supervisionado**. Diss. Universidade de São Paulo, 2003.\n",
    "\n",
    "<br>Deep Learning Course. Udacity. Disponível em: https://classroom.udacity.com/courses/ud730\n",
    "\n",
    "<br>TensorFlow for Poets. Disponível em: https://codelabs.developers.google.com/codelabs/tensorflow-for-poets/?utm_campaign=chrome_series_machinelearning_063016&utm_source=gdev&utm_medium=yt-desc#0\n",
    "\n",
    "<br> Olivetti Faces. Disponível em: http://scikit-learn.org/stable/datasets/olivetti_faces.html\n",
    "\n",
    "\n",
    "\n"
   ]
  }
 ],
 "metadata": {
  "kernelspec": {
   "display_name": "Python 2",
   "language": "python",
   "name": "python2"
  },
  "language_info": {
   "codemirror_mode": {
    "name": "ipython",
    "version": 2
   },
   "file_extension": ".py",
   "mimetype": "text/x-python",
   "name": "python",
   "nbconvert_exporter": "python",
   "pygments_lexer": "ipython2",
   "version": "2.7.13"
  }
 },
 "nbformat": 4,
 "nbformat_minor": 2
}
